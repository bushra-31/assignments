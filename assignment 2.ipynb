{
 "cells": [
  {
   "cell_type": "markdown",
   "id": "c903465d",
   "metadata": {},
   "source": [
    "### 1.What are the two values of the Boolean data type? How do you write them?\n",
    "- the two boolean outputs values are True and False \n",
    "- The function used to get boolean output is bool()\n"
   ]
  },
  {
   "cell_type": "markdown",
   "id": "54c513f2",
   "metadata": {},
   "source": [
    "### 2. What are the three different types of Boolean operators?\n",
    " - The three different boolean operators are AND , OR, NOT"
   ]
  },
  {
   "cell_type": "markdown",
   "id": "7be2d2d0",
   "metadata": {},
   "source": [
    "### 3. Make a list of each Boolean operator's truth table .\n",
    "-    |AND TABLE|\n",
    "\n",
    "\n",
    "-  0 and 0 -----> 0 (false)\n",
    "-  1 and 1 -----> 1 (true)\n",
    "-  0 and 1 -----> 0 (false)\n",
    "-  1 and 0 -----> 0 (false) \n",
    "\n",
    "\n",
    "\n",
    "-     |OR TABLE|\n",
    "\n",
    "\n",
    "\n",
    "-  0 and 0 -----> 0 (false)\n",
    "-  1 and 1 -----> 1 (true)\n",
    "-  0 and 1 -----> 1 (true)\n",
    "-  1 and 0 -----> 1 (true) \n"
   ]
  },
  {
   "cell_type": "code",
   "execution_count": 10,
   "id": "41e54ce4",
   "metadata": {},
   "outputs": [
    {
     "name": "stdout",
     "output_type": "stream",
     "text": [
      "False\n",
      "False\n",
      "True\n",
      "False\n",
      "False\n",
      "True\n"
     ]
    }
   ],
   "source": [
    "# 4. What are the values of the following expressions?\n",
    "print((5 > 4) and (3 == 5))\n",
    "print(not (5 > 4))\n",
    "print((5 > 4) or (3 == 5))\n",
    "print(not ((5 > 4) or (3 == 5)))\n",
    "print((True and True) and (True == False))\n",
    "print((not False) or (not True))"
   ]
  },
  {
   "cell_type": "markdown",
   "id": "af20a417",
   "metadata": {},
   "source": [
    "## 5. What are the six comparison operators?\n",
    "- answer :\n",
    "\n",
    "       -  =     -----> Equal to \n",
    "       - !=     -----> Not Equal to\n",
    "       - <      -----> Less than\n",
    "       - >      -----> Greater than\n",
    "       - <=     -----> Less than or equal to \n",
    "       - >=     -----> Greater than or equal to"
   ]
  },
  {
   "cell_type": "markdown",
   "id": "01d4ee58",
   "metadata": {},
   "source": [
    "#### 6. How do you tell the difference between the equal to and assignment operators?Describe a condition and when you would use one.\n",
    "##### Answer :  \n",
    "           Assignment operator is used to assign values to a particular variable and where as equal to operator is to find two operands are equal to each other or not.\n",
    "           examples: 1) assignment operator -----> a=10\n",
    "                     2) equal to operator ------>is  10==10 ?"
   ]
  },
  {
   "cell_type": "code",
   "execution_count": 13,
   "id": "11a28f96",
   "metadata": {},
   "outputs": [
    {
     "name": "stdout",
     "output_type": "stream",
     "text": [
      "ham\n",
      "spam\n",
      "spam\n"
     ]
    }
   ],
   "source": [
    "#7. Identify the three blocks in this code:\n",
    "spam = 0 \n",
    "if spam == 10:    --------> # block 1: if block\n",
    "    print('eggs')\n",
    "if spam > 5:      ---------> # block 2: could be replaced by elif:\n",
    "    print('bacon')\n",
    "else:             ---------> # block 3 : else block \n",
    "    print('ham')\n",
    "    print('spam')\n",
    "    print('spam')"
   ]
  },
  {
   "cell_type": "code",
   "execution_count": 19,
   "id": "bb2187e0",
   "metadata": {},
   "outputs": [
    {
     "name": "stdout",
     "output_type": "stream",
     "text": [
      "Enter your digit : 1\n",
      "Hello\n"
     ]
    }
   ],
   "source": [
    "# 8. Write code that prints Hello if 1 is stored in spam, prints Howdy if 2 is stored in spam, and prints\n",
    "   #      Greetings! if anything else is stored in spam.\n",
    "    \n",
    "    \n",
    "spam = int(input(\"Enter your digit : \"))\n",
    "\n",
    "\n",
    "if spam == 1:\n",
    "    print('Hello')\n",
    "elif spam == 2:\n",
    "    print('Howdy')\n",
    "else:\n",
    "    print('Greetings !!')"
   ]
  },
  {
   "cell_type": "markdown",
   "id": "f8aa973d",
   "metadata": {},
   "source": [
    "#### 9 . If your programme is stuck in an endless loop, what keys you’ll press?\n",
    "- Answer : In such case enter \"break\" to stop the loop"
   ]
  },
  {
   "cell_type": "markdown",
   "id": "6db00340",
   "metadata": {},
   "source": [
    "#### 10. How can you tell the difference between break and continue?\n",
    "\n",
    "- The main difference between both the statements is that when break keyword comes, it terminates the execution of the current loop and passes the control over the next loop or main body, whereas when continue keyword is encountered, it skips the current iteration and executes the very next iteration in the loop. \n",
    "- In simple words break statement leaves a loop, whereas the continue statement jumps to the next iteration. "
   ]
  },
  {
   "cell_type": "code",
   "execution_count": 31,
   "id": "7c456a52",
   "metadata": {},
   "outputs": [
    {
     "name": "stdout",
     "output_type": "stream",
     "text": [
      "0\n",
      "1\n",
      "2\n",
      "3\n",
      "4\n",
      "5\n",
      "6\n",
      "7\n",
      "8\n",
      "9\n",
      "------------------\n",
      "0\n",
      "1\n",
      "2\n",
      "3\n",
      "4\n",
      "5\n",
      "6\n",
      "7\n",
      "8\n",
      "9\n",
      "------------------\n",
      "0\n",
      "1\n",
      "2\n",
      "3\n",
      "4\n",
      "5\n",
      "6\n",
      "7\n",
      "8\n",
      "9\n"
     ]
    }
   ],
   "source": [
    "#### 11. In a for loop, what is the difference between range(10), range(0, 10), and range(0, 10, 1)?\n",
    "# (start , stop , step count)\n",
    "for i in range(10):\n",
    "    print(i)\n",
    "print(\"------------------\")\n",
    "    \n",
    "for i in range(0,10):\n",
    "    print(i)\n",
    "print(\"------------------\")    \n",
    "for i in range(0,10,1):\n",
    "    print(i)\n",
    "        "
   ]
  },
  {
   "cell_type": "markdown",
   "id": "9de2232f",
   "metadata": {},
   "source": [
    "#### 12. Write a short program that prints the numbers 1 to 10 using a for loop. Then write an equivalent program that prints the numbers 1 to 10 using a while loop."
   ]
  },
  {
   "cell_type": "code",
   "execution_count": 33,
   "id": "226cf58c",
   "metadata": {},
   "outputs": [
    {
     "name": "stdout",
     "output_type": "stream",
     "text": [
      "1\n",
      "2\n",
      "3\n",
      "4\n",
      "5\n",
      "6\n",
      "7\n",
      "8\n",
      "9\n",
      "10\n",
      "---------\n",
      "1\n",
      "2\n",
      "3\n",
      "4\n",
      "5\n",
      "6\n",
      "7\n",
      "8\n",
      "9\n",
      "10\n"
     ]
    }
   ],
   "source": [
    "for i in range(10):\n",
    "    print(i+1)\n",
    "\n",
    "\n",
    "print('---------')\n",
    "i = 1\n",
    "while(i<=10):\n",
    "    print(i)\n",
    "    i += 1\n"
   ]
  },
  {
   "cell_type": "markdown",
   "id": "077faa46",
   "metadata": {},
   "source": [
    "#### 13. If you had a function named bacon() inside a module named spam, how would you call it after importing spam?\n",
    "- answer: From spam import bacon "
   ]
  },
  {
   "cell_type": "code",
   "execution_count": null,
   "id": "ad9919ee",
   "metadata": {},
   "outputs": [],
   "source": []
  }
 ],
 "metadata": {
  "kernelspec": {
   "display_name": "Python 3 (ipykernel)",
   "language": "python",
   "name": "python3"
  },
  "language_info": {
   "codemirror_mode": {
    "name": "ipython",
    "version": 3
   },
   "file_extension": ".py",
   "mimetype": "text/x-python",
   "name": "python",
   "nbconvert_exporter": "python",
   "pygments_lexer": "ipython3",
   "version": "3.9.12"
  }
 },
 "nbformat": 4,
 "nbformat_minor": 5
}
