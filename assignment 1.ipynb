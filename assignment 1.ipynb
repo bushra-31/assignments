{
 "cells": [
  {
   "cell_type": "markdown",
   "id": "d1eb9689",
   "metadata": {},
   "source": [
    "1. In the below elements which of them are values or an expression? eg:- values can be\n",
    "    integer or string and expressions will be mathematical operators.\n",
    "  - *\n",
    "  - 'hello'\n",
    "  -  -87.8\n",
    "  - -\n",
    "  - /\n",
    "  -  +\n",
    "  -  6\n",
    "- answer :\n",
    " - '* , - , / , + ' are all mathematical operators \n",
    " - 'hello ' , -87.8 , 6 are values. \n",
    " "
   ]
  },
  {
   "cell_type": "markdown",
   "id": "37566ae2",
   "metadata": {},
   "source": [
    "2. What is the difference between string and variable?\n",
    "- answer : a variable can take any value and a string is usually enclosed between '' ,\"\", . a string can be digits or alphabets ."
   ]
  },
  {
   "cell_type": "markdown",
   "id": "2dc6e9ee",
   "metadata": {},
   "source": [
    "3. Describe three different data types.\n",
    "- answer :Three different data types are :\n",
    "          - int : includes all numerical values \n",
    "          - float : includes values with decimal points\n",
    "          - strings : inlcudes words or list of alphabets or list of numbers enclosed in \"\" or ''.\n",
    "          - boolean : inlcudes true or false\n",
    "          - complex : inlcudes imaginary values"
   ]
  },
  {
   "cell_type": "markdown",
   "id": "e6e3b4b2",
   "metadata": {},
   "source": [
    "4. What is an expression made up of? What do all expressions do?\n",
    "- answer : An expression is a combination of operators, constants and variables. An expression may consist of one or more operands, and zero or more operators to produce a value.\n",
    "\n"
   ]
  },
  {
   "cell_type": "markdown",
   "id": "3fbaf2d0",
   "metadata": {},
   "source": [
    "- 5. This assignment statements, like spam = 10. What is the difference between an\n",
    "  expression and a statement?\n",
    "- answer : assignment statements have a valued set to that particular variable unless it is changed but an expression can have variable as one of the operands . \n",
    " - statment is fixed upholding the value set and expression will return an output "
   ]
  },
  {
   "cell_type": "code",
   "execution_count": 7,
   "id": "55f9c503",
   "metadata": {},
   "outputs": [
    {
     "name": "stdout",
     "output_type": "stream",
     "text": [
      "22\n",
      "23\n"
     ]
    }
   ],
   "source": [
    "# 6. After running the following code, what does the variable bacon contain?\n",
    "    #  bacon = 22\n",
    "    # bacon + 1\n",
    "## answer : if bacon is called without reassigning  then it won't take any value \n",
    "bacon = 22 \n",
    "bacon + 1 \n",
    "print(bacon)\n",
    "bacon = 22 \n",
    "bacon = bacon + 1\n",
    "print(bacon)\n"
   ]
  },
  {
   "cell_type": "code",
   "execution_count": 10,
   "id": "4efb330f",
   "metadata": {},
   "outputs": [
    {
     "name": "stdout",
     "output_type": "stream",
     "text": [
      "spamspamspam\n",
      "spamspamspam\n"
     ]
    }
   ],
   "source": [
    "# 7. What should the values of the following two terms be?\n",
    "spam1 = 'spam' + 'spamspam'\n",
    "spam2 = 'spam' * 3\n",
    "print(spam1)\n",
    "print(spam2)"
   ]
  },
  {
   "cell_type": "markdown",
   "id": "cc02e2dc",
   "metadata": {},
   "source": [
    "8. Why is eggs a valid variable name while 100 is invalid?\n",
    "- answer : a variable can not start with digits that is why 100 can not be a valid variable name."
   ]
  },
  {
   "cell_type": "markdown",
   "id": "68838bb0",
   "metadata": {},
   "source": [
    "9. What three functions can be used to get the integer, floating-point number, or string\n",
    "    version of a value?\n",
    "    - answer : \n",
    "             int()\n",
    "             float()\n",
    "             str() \n",
    "      are the functions used to get integer , floating point number or string version of a value.\n"
   ]
  },
  {
   "cell_type": "markdown",
   "id": "bbfb9e50",
   "metadata": {},
   "source": [
    "10. Why does this expression cause an error? How can you fix it?\n",
    "\n",
    "    'I have eaten'+ 99+ 'burritos'\n",
    "    \n",
    " - answer : the above code will throw error as strings and integers can't be concatinated , to solve this we need to convert integer into string as follows:\n",
    " - 'I have eaten'+ '99'+ 'burritos'"
   ]
  },
  {
   "cell_type": "code",
   "execution_count": null,
   "id": "dfc02446",
   "metadata": {},
   "outputs": [],
   "source": []
  }
 ],
 "metadata": {
  "kernelspec": {
   "display_name": "Python 3 (ipykernel)",
   "language": "python",
   "name": "python3"
  },
  "language_info": {
   "codemirror_mode": {
    "name": "ipython",
    "version": 3
   },
   "file_extension": ".py",
   "mimetype": "text/x-python",
   "name": "python",
   "nbconvert_exporter": "python",
   "pygments_lexer": "ipython3",
   "version": "3.9.12"
  }
 },
 "nbformat": 4,
 "nbformat_minor": 5
}
